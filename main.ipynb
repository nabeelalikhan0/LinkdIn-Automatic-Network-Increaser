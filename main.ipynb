{
 "cells": [
  {
   "cell_type": "code",
   "execution_count": 1,
   "id": "bc1e0107",
   "metadata": {},
   "outputs": [],
   "source": [
    "from selenium import webdriver\n",
    "from selenium.webdriver.common.keys import Keys\n",
    "from selenium.webdriver.common.by import By\n",
    "import pyautogui as p\n",
    "from time import sleep"
   ]
  },
  {
   "cell_type": "code",
   "execution_count": 36,
   "id": "390bbfe2",
   "metadata": {},
   "outputs": [],
   "source": [
    "driver = webdriver.Chrome()\n",
    "driver.get(\"https://www.linkedin.com/mynetwork/grow/\")"
   ]
  },
  {
   "cell_type": "code",
   "execution_count": 37,
   "id": "658b00b7",
   "metadata": {},
   "outputs": [],
   "source": [
    "email = \"nabeel03103n@gmail.com\"\n",
    "password = \"qd5EuU7WX_@y0jt\""
   ]
  },
  {
   "cell_type": "code",
   "execution_count": 38,
   "id": "3d16de3a",
   "metadata": {},
   "outputs": [],
   "source": [
    "input_email = driver.find_element(By.ID, \"username\")\n",
    "input_password = driver.find_element(By.ID, \"password\")\n",
    "\n",
    "input_email.send_keys(email)\n",
    "input_password.send_keys(password)\n",
    "input_password.send_keys(Keys.RETURN)"
   ]
  },
  {
   "cell_type": "code",
   "execution_count": 39,
   "id": "bb3c8755",
   "metadata": {},
   "outputs": [],
   "source": [
    "load_more_btn = driver.find_element(By.XPATH, \"//*[text()='Load more']\")\n",
    "driver.execute_script(\"arguments[0].click();\", load_more_btn)\n"
   ]
  },
  {
   "cell_type": "code",
   "execution_count": 40,
   "id": "a2530040",
   "metadata": {},
   "outputs": [],
   "source": [
    "connect_btns = driver.find_elements(By.XPATH, \"//*[text()='Connect']\")"
   ]
  },
  {
   "cell_type": "code",
   "execution_count": null,
   "id": "001cd456",
   "metadata": {},
   "outputs": [],
   "source": [
    "for connect_btn in connect_btns:\n",
    "    try:\n",
    "        driver.execute_script(\"arguments[0].scrollIntoView(true);\", connect_btn)\n",
    "        sleep(0.5)  # allow any animations to settle\n",
    "        driver.execute_script(\"arguments[0].click();\", connect_btn)\n",
    "        sleep(1)  # wait between clicks\n",
    "    except Exception as e:\n",
    "        print(f\"Skipping button due to error: {e}\")"
   ]
  },
  {
   "cell_type": "code",
   "execution_count": 35,
   "id": "a38e80b8",
   "metadata": {},
   "outputs": [],
   "source": [
    "driver.close()"
   ]
  },
  {
   "cell_type": "code",
   "execution_count": null,
   "id": "178e7e76",
   "metadata": {},
   "outputs": [],
   "source": []
  }
 ],
 "metadata": {
  "kernelspec": {
   "display_name": "Python 3",
   "language": "python",
   "name": "python3"
  },
  "language_info": {
   "codemirror_mode": {
    "name": "ipython",
    "version": 3
   },
   "file_extension": ".py",
   "mimetype": "text/x-python",
   "name": "python",
   "nbconvert_exporter": "python",
   "pygments_lexer": "ipython3",
   "version": "3.11.7"
  }
 },
 "nbformat": 4,
 "nbformat_minor": 5
}
