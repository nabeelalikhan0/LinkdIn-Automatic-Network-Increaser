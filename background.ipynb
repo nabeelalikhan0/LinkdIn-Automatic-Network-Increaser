{
 "cells": [
  {
   "cell_type": "code",
   "execution_count": 1,
   "id": "1b317626",
   "metadata": {},
   "outputs": [],
   "source": [
    "from selenium import webdriver\n",
    "from selenium.webdriver.common.keys import Keys\n",
    "from selenium.webdriver.common.by import By\n",
    "import pyautogui as p\n",
    "from time import sleep"
   ]
  },
  {
   "cell_type": "code",
   "execution_count": 2,
   "id": "a7924e71",
   "metadata": {},
   "outputs": [],
   "source": [
    "driver = webdriver.Chrome()\n",
    "driver.get(\"https://www.linkedin.com/mynetwork/grow/\")"
   ]
  },
  {
   "cell_type": "code",
   "execution_count": null,
   "id": "9a594df6",
   "metadata": {},
   "outputs": [],
   "source": [
    "email = \"your email\"\n",
    "password = \"your password\""
   ]
  },
  {
   "cell_type": "code",
   "execution_count": 4,
   "id": "37626d9a",
   "metadata": {},
   "outputs": [],
   "source": [
    "input_email = driver.find_element(By.ID, \"username\")\n",
    "input_password = driver.find_element(By.ID, \"password\")\n",
    "\n",
    "input_email.send_keys(email)\n",
    "input_password.send_keys(password)\n",
    "input_password.send_keys(Keys.RETURN)"
   ]
  },
  {
   "cell_type": "code",
   "execution_count": 5,
   "id": "39f43f22",
   "metadata": {},
   "outputs": [],
   "source": [
    "load_more_btn = driver.find_element(By.XPATH, \"//*[text()='Load more']\")\n",
    "driver.execute_script(\"arguments[0].click();\", load_more_btn)\n"
   ]
  },
  {
   "cell_type": "code",
   "execution_count": 6,
   "id": "480734ae",
   "metadata": {},
   "outputs": [],
   "source": [
    "connect_btns = driver.find_elements(By.XPATH, \"//*[text()='Connect']\")"
   ]
  },
  {
   "cell_type": "code",
   "execution_count": 7,
   "id": "f30797f0",
   "metadata": {},
   "outputs": [],
   "source": [
    "for connect_btn in connect_btns:\n",
    "    try:\n",
    "        driver.execute_script(\"arguments[0].scrollIntoView(true);\", connect_btn)\n",
    "        sleep(0.5)  # allow any animations to settle\n",
    "        driver.execute_script(\"arguments[0].click();\", connect_btn)\n",
    "        sleep(1)  # wait between clicks\n",
    "    except Exception as e:\n",
    "        print(f\"Skipping button due to error: {e}\")"
   ]
  },
  {
   "cell_type": "code",
   "execution_count": 8,
   "id": "f558858f",
   "metadata": {},
   "outputs": [],
   "source": [
    "driver.close()"
   ]
  },
  {
   "cell_type": "code",
   "execution_count": null,
   "id": "f6a8dcd6",
   "metadata": {},
   "outputs": [],
   "source": []
  }
 ],
 "metadata": {
  "kernelspec": {
   "display_name": "Python 3",
   "language": "python",
   "name": "python3"
  },
  "language_info": {
   "codemirror_mode": {
    "name": "ipython",
    "version": 3
   },
   "file_extension": ".py",
   "mimetype": "text/x-python",
   "name": "python",
   "nbconvert_exporter": "python",
   "pygments_lexer": "ipython3",
   "version": "3.11.7"
  }
 },
 "nbformat": 4,
 "nbformat_minor": 5
}
